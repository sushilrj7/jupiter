{
 "cells": [
  {
   "cell_type": "code",
   "execution_count": null,
   "metadata": {},
   "outputs": [],
   "source": [
    "#%reset -f\n",
    "import sys,os\n",
    "from pathlib import Path\n",
    "\n",
    "from ipywidgets import AppLayout, Button, Layout\n",
    "\n",
    "import ipywidgets as widgets\n",
    "from ipywidgets import AppLayout\n",
    "from IPython.display import display, HTML\n",
    "\n",
    "\n",
    "\n",
    "#notebook1_path = Path(r\"C:\\Users\\sushil\\OneDrive - Awan Infotech Private Limited\\Documents\\jubiter\").resolve()\n",
    "#if str(notebook1_path) not in sys.path:\n",
    "    #sys.path.append(str(notebook1_path))\n",
    "\n",
    "#from ipynb.fs.full.azure_functions import get_subscriptions\n"
   ]
  },
  {
   "cell_type": "code",
   "execution_count": 267,
   "metadata": {},
   "outputs": [],
   "source": [
    "import nbformat\n",
    "from IPython.core.interactiveshell import InteractiveShell\n",
    "\n",
    "\n",
    "notebook_path_azure = r'C:\\Users\\sushil\\OneDrive - Awan Infotech Private Limited\\Documents\\jubiter\\azure_functions.ipynb'\n",
    "notebook_path_widgets = r'C:\\Users\\sushil\\OneDrive - Awan Infotech Private Limited\\Documents\\jubiter\\widgets.ipynb'\n",
    "\n",
    "# Load the notebook\n",
    "\n",
    "with open(notebook_path_azure) as f:\n",
    "    nb1 = nbformat.read(f, as_version=4)\n",
    "with open(notebook_path_widgets) as f:\n",
    "    nb2 = nbformat.read(f, as_version=4)\n",
    "\n",
    "# Create an interactive shell\n",
    "shell = InteractiveShell.instance()\n",
    "\n",
    "# Execute each cell in the notebook\n",
    "for cell in nb1.cells:\n",
    "    if cell.cell_type == 'code':\n",
    "        shell.run_cell(cell.source)\n",
    "for cell in nb2.cells:\n",
    "    if cell.cell_type == 'code':\n",
    "        shell.run_cell(cell.source)"
   ]
  },
  {
   "cell_type": "code",
   "execution_count": null,
   "metadata": {},
   "outputs": [],
   "source": [
    "subscriptions = get_subscriptions()\n",
    "#print(subscriptions)"
   ]
  },
  {
   "cell_type": "code",
   "execution_count": null,
   "metadata": {},
   "outputs": [],
   "source": [
    "# Env Selector\n",
    "# Dropdown Selector - Subscription, Resource Group, Resource Type\n",
    "# Filter Display Box - Subscription, Resource Group, Resource Type"
   ]
  },
  {
   "cell_type": "code",
   "execution_count": null,
   "metadata": {},
   "outputs": [],
   "source": [
    "dropdown_options = list(subscriptions.itertuples(index=False, name=None))\n",
    "dropdown_subs = widgets.Dropdown(\n",
    "    options=dropdown_options,\n",
    "    #value=2,\n",
    "    description='Number:',\n",
    ")\n",
    "\n",
    "output_subs = widgets.Output()\n",
    "def on_dropdown_change(change):\n",
    "    with output_subs:\n",
    "        output_subs.clear_output()\n",
    "        display(dropdown_subs)\n",
    "        print(f'Selected Subscription ID: {change[\"new\"]}')\n",
    "\n",
    "dropdown_subs.observe(on_dropdown_change, names='value')\n",
    "\n",
    "#display(dropdown_subs,output_subs)\n",
    "\n",
    "with output_subs:\n",
    "    display(dropdown_subs)\n",
    "    print(f'Selected Subscription ID: {dropdown_subs.value}')\n",
    "\n",
    "\n"
   ]
  },
  {
   "cell_type": "code",
   "execution_count": 270,
   "metadata": {},
   "outputs": [],
   "source": [
    "resources_df = pd.DataFrame()\n",
    "for index,subs in subscriptions.iterrows():\n",
    "    #print(subs['subscription_name'])\n",
    "    result_df = get_resources(subs['subscription_id'])\n",
    "    resources_df = pd.concat([resources_df, result_df], ignore_index=True)\n",
    "\n",
    "#print(resources_df.head(10))\n",
    "\n",
    "#grouped = resources_df.groupby(['Type']) #'subscription_id',\n",
    "#print(grouped)\n",
    "\n",
    "# for resource_type, group in grouped:\n",
    "#     print(f\"Resource Type: {resource_type}\")\n",
    "#     print(group)\n",
    "#     print(\"-----\")\n",
    "\n",
    "grouped_df = resources_df.groupby(['Type']).size().reset_index(name='count') #'subscription_id',\n",
    "resource_summary_df = grouped_df.sort_values(by='count', ascending=False)\n",
    "#print(resource_summary_df)\n",
    "\n"
   ]
  },
  {
   "cell_type": "code",
   "execution_count": 271,
   "metadata": {},
   "outputs": [],
   "source": [
    "def get_filtered_resource_data_in_container(df):\n",
    "    # resources_df resource_summary_df\n",
    "    output = widgets.Output()\n",
    "\n",
    "    def highlight_rows(row):\n",
    "        return ['background-color: paleturquoise' if row.name % 2 == 0 else 'background-color: peachpuff' for _ in row]\n",
    "    # lightgreen lightblue\n",
    "\n",
    "    styled_df = df.style.apply(highlight_rows, axis=1)\n",
    "\n",
    "    styled_df = styled_df.set_table_styles([\n",
    "    {'selector': 'thead th', 'props': [('background-color', 'paleturquoise')]},\n",
    "    {'selector': 'tbody th', 'props': [('background-color', 'paleturquoise')]}\n",
    "    ])\n",
    "\n",
    "\n",
    "\n",
    "    # Display the dataframe inside the Output widget\n",
    "    with output:\n",
    "        display(styled_df)\n",
    "        \n",
    "    scroll_size = 300 if len(df) > 9 else len(df) * 35\n",
    "    scroll_size += 0 if len(df) > 2 else len(df) + 30\n",
    "    scrollable_container = widgets.VBox([output])\n",
    "    scrollable_container.layout = widgets.Layout(overflow='auto', height=f'{scroll_size}px')\n",
    "    return scrollable_container\n"
   ]
  },
  {
   "cell_type": "code",
   "execution_count": 272,
   "metadata": {},
   "outputs": [
    {
     "data": {
      "text/html": [
       "\n",
       "<style>\n",
       "    .accordion-header:nth-child(2n) {\n",
       "        background-color: lightblue !important;\n",
       "    }\n",
       "    .accordion-header:nth-child(2n+1) {\n",
       "        background-color: lightgreen !important;\n",
       "    }\n",
       "</style>\n"
      ],
      "text/plain": [
       "<IPython.core.display.HTML object>"
      ]
     },
     "metadata": {},
     "output_type": "display_data"
    }
   ],
   "source": [
    "resource_title = ()\n",
    "resource_data = []\n",
    "for index,item in resource_summary_df.iterrows():\n",
    "    #print(f\"{item['subscription_id']} - {item['Type']} - {item['count']}\") {item['subscription_id']} - \n",
    "    str = f\"{item['Type']} - {item['count']}\"\n",
    "    resource_title = resource_title + (str,)\n",
    "    filtered_df = resources_df[(resources_df['Type'] == item['Type'] ) ].sort_values(by='subscription_id').reset_index(drop=True) # & (resources_df['B'] < 50)]\n",
    "    filtered_df.index = filtered_df.index + 1\n",
    "    resource_data.append(get_filtered_resource_data_in_container(filtered_df)) #widgets.IntSlider())\n",
    "#print(resource_title)\n",
    "#print(resource_data)\n",
    "accordion = widgets.Accordion(children=resource_data, titles=resource_title)\n",
    "\n",
    "for i, child in enumerate(accordion.children):\n",
    "    color = 'lightblue' if i % 2 == 0 else 'lightgreen'\n",
    "    child.layout = widgets.Layout(background_color=color)\n",
    "\n",
    "accordion_html = \"\"\"\n",
    "<style>\n",
    "    .accordion-header:nth-child(2n) {\n",
    "        background-color: lightblue !important;\n",
    "    }\n",
    "    .accordion-header:nth-child(2n+1) {\n",
    "        background-color: lightgreen !important;\n",
    "    }\n",
    "</style>\n",
    "\"\"\"\n",
    "\n",
    "# Display the custom CSS\n",
    "display(HTML(accordion_html))\n",
    "\n",
    "#display(accordion)\n"
   ]
  },
  {
   "cell_type": "code",
   "execution_count": null,
   "metadata": {},
   "outputs": [],
   "source": [
    "#create_button('Header', 'success')"
   ]
  },
  {
   "cell_type": "code",
   "execution_count": null,
   "metadata": {},
   "outputs": [],
   "source": [
    "# Result Box\n",
    "# Create an Output widget with a border\n",
    "# output_widget = widgets.Output(layout={'border': '1px solid black','padding':'10px',})\n",
    "\n",
    "# # Fill the Output widget with some content\n",
    "# with output_widget:\n",
    "#     print(\"This is a box with a border\")\n",
    "\n",
    "# widget_list = []\n",
    "# for i in range(6):\n",
    "#     widget_list.append(output_widget)\n",
    "\n",
    "#labels = [widgets.Label(f'Label {i}') for i in range(1, 10)]\n",
    "#print(labels)\n",
    "\n",
    "# Create a Box widget to contain the Output widget\n",
    "box_result = widgets.Box([accordion], layout=widgets.Layout(\n",
    "    border='1px solid black', \n",
    "    padding='10px',\n",
    "    #margin='10px',\n",
    "    #width='50%',\n",
    "    height='500px', #400px',\n",
    "    background_color='lightblue',\n",
    "    #display='flex',\n",
    "    #flex_flow='row wrap',\n",
    "    flex_flow='column',\n",
    "    overflow='auto',\n",
    "    #align_items='center',\n",
    "    justify_content='space-between'\n",
    "    ))\n",
    "\n",
    "# Display the box\n",
    "#display(box)\n"
   ]
  },
  {
   "cell_type": "code",
   "execution_count": 278,
   "metadata": {},
   "outputs": [],
   "source": [
    "toggle_buttons = widgets.ToggleButtons(\n",
    "    options=['Slow', 'Regular', 'Fast'],\n",
    "    description='Environment:',\n",
    "    disabled=False,\n",
    "    button_style='', # 'success', 'info', 'warning', 'danger' or ''\n",
    "    #tooltips=['Description of slow', 'Description of regular', 'Description of fast'],\n",
    "    #icons=['check'] * 3\n",
    ")\n",
    "def on_toggle_change(change):\n",
    "    selected_option = change['new']\n",
    "    label1.value = f'Selected: {selected_option}'\n",
    "    #with output:\n",
    "        #output.clear_output()\n",
    "        #print(f'Function called with {selected_option}')\n",
    "\n",
    "# Attach the function to the ToggleButtons widget\n",
    "toggle_buttons.observe(on_toggle_change, names='value')"
   ]
  },
  {
   "cell_type": "code",
   "execution_count": null,
   "metadata": {},
   "outputs": [],
   "source": [
    "# Create two vertical elements\n",
    "label1 = widgets.Label('Headers 2 - Label 1')\n",
    "label2 = widgets.Label('Headers 2 - Label 2')\n",
    "HBox_dropdown_options = widgets.HBox([label1])\n",
    "HBox_filter_selections = widgets.HBox([output_subs]) \n",
    "#box_subs = widgets.HBox([output_subs]) \n",
    "items = [create_button(f\"abc * {i}\", 'success') for i in range(1,10)]\n",
    "HBox_subfilter = widgets.HBox(items) #[widgets.Label('VBox 1 - Label 1'), widgets.Label('VBox 1 - Label 2')])\n",
    "HBox_ = widgets.HBox([widgets.Label('VBox 2 - Label 1'), widgets.Label('VBox 2 - Label 2')])\n",
    "\n",
    "# Arrange the two vertical elements in a horizontal box layout\n",
    "vbox = widgets.VBox([toggle_buttons,\n",
    "                     HBox_dropdown_options,\n",
    "                     HBox_filter_selections,\n",
    "                     #box_subs,\n",
    "                     HBox_subfilter,\n",
    "                     HBox_,\n",
    "                     box_result])\n",
    "\n",
    "# Display the layout\n",
    "#display(vbox)\n"
   ]
  },
  {
   "cell_type": "code",
   "execution_count": 281,
   "metadata": {},
   "outputs": [],
   "source": [
    "header = widgets.HTML(\"<h2>Header</h2>\")\n",
    "left_sidebar = widgets.HTML(\"<p>Left Sidebar</p>\")\n",
    "main_content = widgets.HTML(\"<p>Main Content</p>\")\n",
    "right_sidebar = widgets.HTML(\"<p>Right Sidebar</p>\")\n",
    "footer = widgets.HTML(\"<p>Footer</p>\")\n",
    "\n",
    "# Apply background colors using the layout attribute\n",
    "header.layout = widgets.Layout(background_color='#f8f9fa')\n",
    "left_sidebar.layout = widgets.Layout(background_color='#e9ecef')\n",
    "main_content.layout = widgets.Layout(background_color='#ffffff')\n",
    "right_sidebar.layout = widgets.Layout(background_color='#e9ecef')\n",
    "footer.layout = widgets.Layout(background_color='#f8f9fa')\n",
    "\n"
   ]
  },
  {
   "cell_type": "code",
   "execution_count": 287,
   "metadata": {},
   "outputs": [
    {
     "data": {
      "application/vnd.jupyter.widget-view+json": {
       "model_id": "69e197d465444215964f78edfb2399f2",
       "version_major": 2,
       "version_minor": 0
      },
      "text/plain": [
       "AppLayout(children=(HTML(value='<p>Footer</p>', layout=Layout(grid_area='footer')), HTML(value='<p>Left Sideba…"
      ]
     },
     "metadata": {},
     "output_type": "display_data"
    }
   ],
   "source": [
    "# Create the AppLayout\n",
    "app_layout = widgets.AppLayout(\n",
    "    header=None, #header,\n",
    "    left_sidebar=left_sidebar,\n",
    "    center=vbox,\n",
    "    right_sidebar=right_sidebar,\n",
    "    footer=footer,\n",
    "    pane_widths=[1, 8, 1],\n",
    "    pane_heights=[1, 8, 1]\n",
    ")\n",
    "\n",
    "# Display the AppLayout\n",
    "display(app_layout)\n",
    "\n"
   ]
  },
  {
   "cell_type": "code",
   "execution_count": null,
   "metadata": {},
   "outputs": [],
   "source": [
    "custom_css = \"\"\"\n",
    "<style>\n",
    "    .widget-app-layout {\n",
    "        width: 100vw;\n",
    "        height: 100vh;\n",
    "        display: flex;\n",
    "        flex-direction: column;\n",
    "    }\n",
    "    .widget-app-layout > .widget-box {\n",
    "        flex: 1;\n",
    "    }\n",
    "    .widget-app-layout > .widget-box:nth-child(1) {\n",
    "        background-color: #f8f9fa;\n",
    "    }\n",
    "    .widget-app-layout > .widget-box:nth-child(2) {\n",
    "        display: flex;\n",
    "    }\n",
    "    .widget-app-layout > .widget-box:nth-child(2) > .widget-box:nth-child(1) {\n",
    "        background-color: #e9ecef;\n",
    "        flex: 1;\n",
    "    }\n",
    "    .widget-app-layout > .widget-box:nth-child(2) > .widget-box:nth-child(2) {\n",
    "        background-color: #ffffff;\n",
    "        flex: 2;\n",
    "    }\n",
    "    .widget-app-layout > .widget-box:nth-child(2) > .widget-box:nth-child(3) {\n",
    "        background-color: #e9ecef;\n",
    "        flex: 1;\n",
    "    }\n",
    "    .widget-app-layout > .widget-box:nth-child(3) {\n",
    "        background-color: #f8f9fa;\n",
    "    }\n",
    "</style>\n",
    "\"\"\"\n"
   ]
  },
  {
   "cell_type": "code",
   "execution_count": null,
   "metadata": {},
   "outputs": [],
   "source": [
    "# # Display the custom CSS\n",
    "# display(HTML(custom_css))\n",
    "\n",
    "# # Display the AppLayout\n",
    "# display(app_layout)\n"
   ]
  },
  {
   "cell_type": "code",
   "execution_count": null,
   "metadata": {},
   "outputs": [],
   "source": [
    "# AppLayout(header=create_button('Header', 'success'),\n",
    "#           left_sidebar=create_button('Left', 'info'),\n",
    "#           center=vbox, #center_button,\n",
    "#           right_sidebar=create_button('Right', 'info'),\n",
    "#           footer=create_button('Footer', 'success'),\n",
    "#           pane_widths=[1, 8.5, 0.5],\n",
    "#           pane_heights=[0.5, 5, '30px'])"
   ]
  },
  {
   "cell_type": "code",
   "execution_count": null,
   "metadata": {},
   "outputs": [],
   "source": [
    "# out = widgets.Output(layout={'border': '1px solid black'})\n",
    "# out"
   ]
  },
  {
   "cell_type": "code",
   "execution_count": null,
   "metadata": {},
   "outputs": [],
   "source": [
    "\n",
    "# out.clear_output()\n",
    "# with out:\n",
    "#     for i in range(10):\n",
    "#         print(i, 'Hello world!')"
   ]
  },
  {
   "cell_type": "code",
   "execution_count": null,
   "metadata": {},
   "outputs": [],
   "source": [
    "# accordion = widgets.Accordion(children=[widgets.IntSlider(), widgets.Text()], titles=('Slider', 'Text'))\n",
    "# accordion"
   ]
  },
  {
   "cell_type": "code",
   "execution_count": null,
   "metadata": {},
   "outputs": [],
   "source": [
    "# items = [widgets.Label(str(i)) for i in range(8)]\n",
    "# widgets.GridBox(items, layout=widgets.Layout(grid_template_columns=\"repeat(3, 100px)\"))"
   ]
  }
 ],
 "metadata": {
  "kernelspec": {
   "display_name": "Python 3",
   "language": "python",
   "name": "python3"
  },
  "language_info": {
   "codemirror_mode": {
    "name": "ipython",
    "version": 3
   },
   "file_extension": ".py",
   "mimetype": "text/x-python",
   "name": "python",
   "nbconvert_exporter": "python",
   "pygments_lexer": "ipython3",
   "version": "3.10.6"
  }
 },
 "nbformat": 4,
 "nbformat_minor": 2
}
