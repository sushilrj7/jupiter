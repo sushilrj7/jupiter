from azure.identity import DefaultAzureCredential
from azure.mgmt.resource import ResourceManagementClient
import ipywidgets as widgets
from IPython.display import display

# Authenticate
credential = DefaultAzureCredential()
subscription_id = 'your-subscription-id'
resource_client = ResourceManagementClient(credential, subscription_id)
