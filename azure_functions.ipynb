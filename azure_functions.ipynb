{
 "cells": [
  {
   "cell_type": "code",
   "execution_count": null,
   "id": "801bf922",
   "metadata": {},
   "outputs": [],
   "source": [
    "from azure.identity import DefaultAzureCredential, ClientSecretCredential\n",
    "from azure.mgmt.storage import StorageManagementClient\n",
    "from azure.storage.blob import BlobServiceClient\n",
    "from azure.mgmt.resource import ResourceManagementClient, SubscriptionClient\n",
    "\n",
    "import pandas as pd\n",
    "import re, os\n",
    "\n",
    "from azure.mgmt.authorization import AuthorizationManagementClient\n",
    "from azure.mgmt.authorization.models import RoleAssignmentCreateParameters\n",
    "from azure.core.exceptions import ResourceExistsError\n",
    "\n",
    "from dotenv import load_dotenv\n",
    "load_dotenv()\n",
    "\n",
    "\n"
   ]
  },
  {
   "cell_type": "code",
   "execution_count": null,
   "id": "e5979d37",
   "metadata": {},
   "outputs": [],
   "source": [
    "def get_credeantials():\n",
    "    #import json\n",
    "\n",
    "    #with open('config.json') as config_file:\n",
    "        #config = json.load(config_file)\n",
    "\n",
    "    # tenant_id = config['tenant_id']\n",
    "    # client_id = config['client_id']\n",
    "    # client_secret = config['client_secret']\n",
    "\n",
    "    \n",
    "    TENANT_ID = os.getenv('TENANT_ID')\n",
    "    CLIENT_ID = os.getenv('CLIENT_ID')\n",
    "    CLIENT_SECRET = os.getenv('CLIENT_SECRET') \n",
    "\n",
    "    credentials = ClientSecretCredential(TENANT_ID, CLIENT_ID, CLIENT_SECRET)\n",
    "    return credentials"
   ]
  },
  {
   "cell_type": "code",
   "execution_count": null,
   "id": "100574f3",
   "metadata": {},
   "outputs": [],
   "source": [
    "def get_subscriptions():\n",
    "    # Create the SubscriptionClient object using Azure AD credentials\n",
    "    credential = get_credeantials() #DefaultAzureCredential()\n",
    "    #credential = DefaultAzureCredential() #DefaultAzureCredential()\n",
    "    subscription_client = SubscriptionClient(credential)\n",
    "    \n",
    "    # List all subscriptions\n",
    "    subscriptions = subscription_client.subscriptions.list()\n",
    "    \n",
    "    # Collect subscription details in a list\n",
    "    subscription_list = []\n",
    "    for subscription in subscriptions:\n",
    "        subscription_list.append({   \n",
    "            \"subscription_name\": subscription.display_name,\n",
    "            \"subscription_id\": subscription.subscription_id,\n",
    "        })\n",
    "    df = pd.DataFrame(subscription_list)\n",
    "\n",
    "    return df"
   ]
  },
  {
   "cell_type": "code",
   "execution_count": null,
   "id": "430fd097",
   "metadata": {},
   "outputs": [],
   "source": [
    "def get_resources(subscription_id):\n",
    "    credential = get_credeantials() #DefaultAzureCredential()\n",
    "    #credential = DefaultAzureCredential() #DefaultAzureCredential()\n",
    "    resource_client = ResourceManagementClient(credential, subscription_id)\n",
    "\n",
    "    resources = resource_client.resources.list()\n",
    "\n",
    "    resource_list = []\n",
    "\n",
    "    for resource in resources:\n",
    "        #print(f\"Name: {resource.name}, Type: {resource.type}, Location: {resource.location}\")\n",
    "        resource_list.append({\n",
    "            'subscription_id': subscription_id,\n",
    "            'Resource Name': resource.name,\n",
    "            'Type': re.sub(\"Microsoft.\", \"\", resource.type, flags=re.IGNORECASE), #resource.type.replace(\"Microsoft.\", \"\"),\n",
    "            'Location': resource.location\n",
    "        })\n",
    "    df = pd.DataFrame(resource_list)\n",
    "    return df\n",
    "\n",
    "\n",
    "\n",
    "\n"
   ]
  },
  {
   "cell_type": "code",
   "execution_count": 5,
   "id": "a238ffbc",
   "metadata": {},
   "outputs": [],
   "source": [
    "def list_storage_accounts(subscription_id):\n",
    "    credential = DefaultAzureCredential()\n",
    "    storage_client = StorageManagementClient(credential, subscription_id)\n",
    "    storage_accounts = storage_client.storage_accounts.list()\n",
    "    return storage_accounts"
   ]
  },
  {
   "cell_type": "code",
   "execution_count": 6,
   "id": "035dd0c8",
   "metadata": {},
   "outputs": [],
   "source": [
    "def list_files_with_sizes(storage_account_name, container_name):\n",
    "    # Create the BlobServiceClient object using Azure AD credentials\n",
    "    credential = DefaultAzureCredential()  \n",
    "\n",
    "    #blob_service_client = BlobServiceClient(account_url=f\"https://{storage_account_name}.blob.core.windows.net\", credential=SAS_TOKEN)\n",
    "    blob_service_client = BlobServiceClient(account_url=f\"https://{storage_account_name}.blob.core.windows.net\", credential=credential)\n",
    "    \n",
    "    # Get the container client\n",
    "    container_client = blob_service_client.get_container_client(container_name)\n",
    "    \n",
    "    # List the blobs in the container\n",
    "    blob_list = container_client.list_blobs()\n",
    "    #print(f\"**{blob_list}**\")\n",
    "    # Print the name and size of each blob\n",
    "    for blob in blob_list:\n",
    "        print(f\"Name: {blob.name}, Size: {blob.size/1024/1024:.1f} MB\")\n",
    "        #print(f\"\\t{blob}\")"
   ]
  },
  {
   "cell_type": "code",
   "execution_count": 7,
   "id": "30496179",
   "metadata": {},
   "outputs": [],
   "source": [
    "def list_containers(storage_account_name):\n",
    "    # Create the BlobServiceClient object using Azure AD credentials\n",
    "    credential = DefaultAzureCredential()\n",
    "    blob_service_client = BlobServiceClient(account_url=f\"https://{storage_account_name}.blob.core.windows.net\", credential=credential)\n",
    "    \n",
    "    # List the containers in the storage account\n",
    "    containers = blob_service_client.list_containers()\n",
    "\n",
    "    return containers"
   ]
  },
  {
   "cell_type": "code",
   "execution_count": 8,
   "id": "02c5269b",
   "metadata": {},
   "outputs": [],
   "source": [
    "def assign_role_to_subscription(subscription_id, role_definition_id, principal_id):\n",
    "    # Create the AuthorizationManagementClient object using Azure AD credentials\n",
    "    credential = DefaultAzureCredential()\n",
    "    auth_client = AuthorizationManagementClient(credential, subscription_id)\n",
    "    \n",
    "    # Define the scope (subscription level)\n",
    "    scope = f\"/subscriptions/{subscription_id}\"\n",
    "    \n",
    "    # Generate a unique role assignment name\n",
    "    import uuid\n",
    "    role_assignment_name = str(uuid.uuid4())\n",
    "    \n",
    "    # Create the role assignment parameters\n",
    "    role_assignment_params = RoleAssignmentCreateParameters(\n",
    "        role_definition_id=role_definition_id,\n",
    "        principal_id=principal_id\n",
    "    )\n",
    "    \n",
    "    # Assign the role\n",
    "    role_assignment = auth_client.role_assignments.create(\n",
    "        scope=scope,\n",
    "        role_assignment_name=role_assignment_name,\n",
    "        parameters=role_assignment_params\n",
    "    )\n",
    "    \n",
    "    return role_assignment"
   ]
  }
 ],
 "metadata": {
  "kernelspec": {
   "display_name": "Python 3",
   "language": "python",
   "name": "python3"
  },
  "language_info": {
   "codemirror_mode": {
    "name": "ipython",
    "version": 3
   },
   "file_extension": ".py",
   "mimetype": "text/x-python",
   "name": "python",
   "nbconvert_exporter": "python",
   "pygments_lexer": "ipython3",
   "version": "3.10.6"
  }
 },
 "nbformat": 4,
 "nbformat_minor": 5
}
