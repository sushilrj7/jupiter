from azure.identity import DefaultAzureCredential
from azure.mgmt.resource import ResourceManagementClient
import ipywidgets as widgets
from IPython.display import display
import pandas as pd

# Authenticate
credential = DefaultAzureCredential()
subscription_id = 'your-subscription-id'
resource_client = ResourceManagementClient(credential, subscription_id)

# Fetch resources
def list_resources():
    resources = resource_client.resources.list()
    resource_list = []
    for resource in resources:
        resource_list.append({
            'Name': resource.name,
            'Type': resource.type,
            'Location': resource.location
        })
    return resource_list

resources = list_resources()

# Display resources
def display_resources(resources):
    df = pd.DataFrame(resources)
    display(df)

display_resources(resources)
