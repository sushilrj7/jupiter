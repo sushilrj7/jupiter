{
 "cells": [
  {
   "cell_type": "code",
   "execution_count": null,
   "id": "a8966c28",
   "metadata": {},
   "outputs": [],
   "source": [
    "from ipywidgets import AppLayout, Button, Layout\n",
    "\n",
    "import ipywidgets as widgets\n",
    "from ipywidgets import AppLayout\n",
    "from IPython.display import display, HTML"
   ]
  },
  {
   "cell_type": "code",
   "execution_count": null,
   "id": "d6190691",
   "metadata": {},
   "outputs": [],
   "source": [
    "def create_button(description, button_style):\n",
    "    button = Button(description=description\n",
    "                    ,button_style=button_style \n",
    "                    ,style=dict(\n",
    "                        font_style='italic',\n",
    "                        font_weight='bold',\n",
    "                        font_variant=\"small-caps\",\n",
    "                        text_color='red',\n",
    "                        text_decoration='underline',\n",
    "                        button_color = 'lightgreen'\n",
    "                    )\n",
    "                    ,button_color = 'lightgreen', layout=Layout(height='auto', width='auto'))\n",
    "    return button"
   ]
  },
  {
   "cell_type": "code",
   "execution_count": null,
   "id": "2bf7d8d6",
   "metadata": {},
   "outputs": [],
   "source": [
    "\n",
    "\n",
    "\n"
   ]
  },
  {
   "cell_type": "code",
   "execution_count": null,
   "id": "fecb3883",
   "metadata": {},
   "outputs": [],
   "source": [
    "# header_button = create_expanded_button('Header', 'success')\n",
    "# left_button = create_expanded_button('Left', 'info')\n",
    "# center_button = create_expanded_button('Center', 'warning')\n",
    "# right_button = create_expanded_button('Right', 'info')\n",
    "# footer_button = create_expanded_button('Footer', 'success')\n",
    "\n",
    "# # Create Output widgets\n",
    "# header_output = widgets.Output()\n",
    "# left_output = widgets.Output()\n",
    "# center_output = widgets.Output()\n",
    "# right_output = widgets.Output()\n",
    "# footer_output = widgets.Output()\n",
    "\n",
    "# items = [widgets.Label(str(i)) for i in range(4)]\n",
    "# widgets.Box(items)\n",
    "\n",
    "# items = [widgets.Label(str(i)) for i in range(4)]\n",
    "# widgets.HBox(items)\n",
    "\n",
    "# items = [widgets.Label(str(i)) for i in range(4)]\n",
    "# left_box = widgets.VBox([items[0], items[1]])\n",
    "# right_box = widgets.VBox([items[2], items[3]])\n",
    "# widgets.HBox([left_box, right_box])\n",
    "\n",
    "\n",
    "# # Apply custom CSS to set background colors\n",
    "# display(HTML(\"\"\"\n",
    "# <style>\n",
    "#     .header { background-color: lightblue; }\n",
    "#     .left { background-color: lightgreen; }\n",
    "#     .center { background-color: lightyellow; }\n",
    "#     .right { background-color: lightcoral; }\n",
    "#     .footer { background-color: lightgrey; }\n",
    "# </style>\n",
    "# \"\"\"))"
   ]
  }
 ],
 "metadata": {
  "kernelspec": {
   "display_name": "Python 3",
   "language": "python",
   "name": "python3"
  },
  "language_info": {
   "name": "python",
   "version": "3.10.6"
  }
 },
 "nbformat": 4,
 "nbformat_minor": 5
}
